{
  "nbformat": 4,
  "nbformat_minor": 0,
  "metadata": {
    "colab": {
      "provenance": [],
      "authorship_tag": "ABX9TyMAnG+fN6qarqEV+IeXuDJt",
      "include_colab_link": true
    },
    "kernelspec": {
      "name": "python3",
      "display_name": "Python 3"
    },
    "language_info": {
      "name": "python"
    }
  },
  "cells": [
    {
      "cell_type": "markdown",
      "metadata": {
        "id": "view-in-github",
        "colab_type": "text"
      },
      "source": [
        "<a href=\"https://colab.research.google.com/github/MA20014/-CE305-_week-12-_q-1-_20014_Mir-Ahmad_Ali/blob/main/Untitled0.ipynb\" target=\"_parent\"><img src=\"https://colab.research.google.com/assets/colab-badge.svg\" alt=\"Open In Colab\"/></a>"
      ]
    },
    {
      "cell_type": "code",
      "execution_count": null,
      "metadata": {
        "id": "4MVnWnSugTbi"
      },
      "outputs": [],
      "source": [
        "Loop,  LOAD STRING_BASE    /Load the memory location of STRING_BASE\n",
        "       ADD ITERATOR          /Add ITERATOR to STRING_BASE\n",
        "       STORE INDEX      / store the value of INDEX as STRING_BASE + ITERATOR\n",
        "       LOADI INDEX      / get the value at INDEX\n",
        "       SKIPCOND 400     / check value at INDEX and see if its equal to 0\n",
        "       JUMP DO          / If condition is not met then jump to DO, but if met then this step is skipped\n",
        "       HALT             / Ends the execution of the program\n",
        "\n",
        "DO, Output              / output value at ADDR\n",
        "    LOAD ITERATOR        \t/Load the contents of ITERATOR\n",
        "    ADD ONE         \t/ADD the value of ONE to ITERATOR\n",
        "    STORE ITERATOR         \t/Store the value of ITERATOR as ITERATOR + ONE\n",
        "    JUMP Loop       \t/jump to Loop\n",
        "\n",
        "ONE, DEC 1\t/The purpose of this is to declare the variable ONE\n",
        "ITERATOR, DEC 0\t/The purpose of this is to declare the variable ITERATOR\n",
        "INDEX, HEX 0\t/The purpose of this is to declare the variable INDEX\n",
        "STRING_BASE, HEX 10      / memory location of string\n",
        "String, HEX 48 / It is the ascii value for H\n",
        "        HEX 65 / It is the ascii value for e\n",
        "        HEX 6C / It is the ascii value for l\n",
        "        HEX 6C / It is the ascii value for l\n",
        "        HEX 6F / It is the ascii value for o"
      ]
    }
  ]
}